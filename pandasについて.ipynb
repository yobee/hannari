{
 "cells": [
  {
   "cell_type": "markdown",
   "metadata": {
    "slideshow": {
     "slide_type": "slide"
    }
   },
   "source": [
    "<h1 align='center'> pandasのread_◯◯を調べる。</h1>\n",
    "\n",
    "\n",
    "<br><br><div style=\"text-align: center;\">吉田　貴輝　</div>"
   ]
  },
  {
   "cell_type": "markdown",
   "metadata": {
    "slideshow": {
     "slide_type": "slide"
    }
   },
   "source": [
    "<div align='center'>\n",
    "<h1>吉田　貴輝</h1>\n",
    "<br>\n",
    "    愛称：ヨビー\n",
    "<br>\n",
    "    強情にYOBEと描き続けたらヨベと呼ばれる\n",
    "<br>\n",
    "京都在住\n",
    "<br>\n",
    "大阪でシステムエンジニア（php）\n",
    "<br>\n",
    "python歴1年のペーペー\n",
    "<br>\n",
    "    機械学習をしては何度も挫折しながらpythonは使っている。\n",
    "    pythonでスクレーピングとエクセルがわり。\n",
    "<br>\n",
    "facebook:yoshiteru.yoshida\n",
    "</div>"
   ]
  },
  {
   "cell_type": "markdown",
   "metadata": {
    "slideshow": {
     "slide_type": "slide"
    }
   },
   "source": [
    "<div style=\"text-align: center;\">\n",
    "<h2>pandasとは</h2>\n",
    "行列データを扱いやすくしたり、集計を行うライブラリ。  \n",
    "C言語で書かれてる行列フレームワークnumpyがベースで作られているので非常に高速です。  \n",
    "excelで行っていることをpythonで行う場合に非常に便利。  \n",
    "もちろん、少量のデータ、簡単な加工であればexcelで十分ですが、大量のデータや複雑な加工が必要な場合はpandasで加工することが多いです。\n",
    "\n",
    "普段は込み入ったことにはエクセルを使わずに代わりに使っているpythonなんですが、ふとpandasはどれぐらい読み込めるのか気になり調べて見ました。\n",
    "</div>"
   ]
  },
  {
   "cell_type": "markdown",
   "metadata": {
    "slideshow": {
     "slide_type": "slide"
    }
   },
   "source": [
    "<div align='center'>\n",
    "    <h2>\n",
    "        開発環境\n",
    "    </h2>\n",
    "    </div>\n",
    "    <ol>\n",
    "    <li>homebrew(macパッケージ管理ソフト？)</li>\n",
    "    <li>pyenv 1.1.5</li>\n",
    "    <li>Python 3.5.4 :: Anaconda custom (64-bit)</li>\n",
    "    </ol>"
   ]
  },
  {
   "cell_type": "markdown",
   "metadata": {
    "slideshow": {
     "slide_type": "slide"
    }
   },
   "source": [
    "<div align='center'>\n",
    "    <h2>\n",
    "        read_◯◯を調べたら結構あった\n",
    "   </h2>\n",
    "</div>\n",
    "<ul>\n",
    "<li>pd.read_clipboard</li>\n",
    "<li>pd.read_csv</li>\n",
    "<li>pd.read_excel</li>\n",
    "<li>pd.read_feather</li>\n",
    "<li>pd.read_fwf</li>\n",
    "<li>pd.read_gbq</li>\n",
    "<li>pd.read_hdf</li>\n",
    "<li>pd.read_html</li>\n",
    "<li>pd.read_json</li>\n",
    "<li>pd.read_msgpack</li>\n",
    "<li>pd.read_parquet</li>\n",
    "<li>pd.read_pickle</li>\n",
    "<li>pd.read_sas</li>\n",
    "<li>pd.read_sql</li>\n",
    "<li>pd.read_sql_query</li>\n",
    "<li>pd.read_sql_table</li>\n",
    "<li>pd.read_stata</li>\n",
    "<li>pd.read_table</li>\n",
    "</ul>\n"
   ]
  },
  {
   "cell_type": "markdown",
   "metadata": {
    "slideshow": {
     "slide_type": "slide"
    }
   },
   "source": [
    "<div align='center'>\n",
    "    <h2>お世話になっているもの</h2>\n",
    "</div>\n",
    "\n",
    "<h3>pd.read_csv</h3>\n",
    "Also supports optionally iterating or breaking of the file into chunks.<br>\n",
    "CSV（コンマ区切り）ファイルをDataFrameに読み込むオプションで、ファイルの反復処理または中断をチャンクにサポートします。\n",
    "TSV（タブ区切り）もオプション設定で使う。\n",
    "\n",
    "<h3>pd.read_excel</h3>\n",
    "Read an Excel table into a pandas DataFrame<br>\n",
    "Excelテーブルを読み込んでpandas DataFrameにする\n",
    "<h3>pd.read_html</h3>\n",
    "Read HTML tables into a ``list`` of ``DataFrame`` objects.<br>\n",
    "htmlのテーブルやテーブルが配列に格納されます。\n",
    "<h3>pd.read_json</h3>\n",
    "#jsonファイルを読む"
   ]
  },
  {
   "cell_type": "markdown",
   "metadata": {
    "slideshow": {
     "slide_type": "slide"
    }
   },
   "source": [
    "<div align='center'>\n",
    "    <h2>使ったことはないが使えそうなもの</h2>\n",
    "</div>\n",
    "<h3>pd.read_clipboard</h3>\n",
    "Read text from clipboard and pass to read_table. See read_table for the full argument list\n",
    "クリップボードからテキストを読み取り、read_tableに渡します。 read_tableを参照してください完全な引数リスト\n",
    "\n",
    "<h3>pd.read_sql</h3>\n",
    "Read SQL query or database table into a DataFrame.\n",
    "SQLクエリまたはデータベーステーブルをDataFrameに読み込みます。\n",
    "SQL queryやDBAPI2 をライブラリを使って\n",
    "<h3>pd.read_parquet</h3>\n",
    "Load a parquet object from the file path, returning a DataFrame.\n",
    "Parquetオブジェクトをロードする。\n",
    "横方向行方向ではなく縦方向で格納する形式\n",
    "<h3>pd.read_pickle</h3>\n",
    "Load pickled pandas object (or any other pickled object) from the specified file path\n",
    "pandasでpickle化されたオブジェクト（または他のpickle化されたオブジェクト）を指定された場所からロードする\n",
    "パイナリ型で格納するpython固有形式のファイル、早いが直読みできない"
   ]
  },
  {
   "cell_type": "markdown",
   "metadata": {
    "slideshow": {
     "slide_type": "slide"
    }
   },
   "source": [
    "<div align ='center'>\n",
    "<h2>若干使うのをためらっている</h2>\n",
    "</div>\n",
    "\n",
    "<h3>pd.read_gbq</h3>\n",
    " Load data from Google BigQuery.\n",
    "The main method a user calls to execute a Query in Google BigQuery and read results into a pandas DataFrame.Google BigQuery API Client Library v2 for Python is used.Documentation is available here\n",
    "googleのbigquery\n",
    "ミスった時のお金のリスクが。。。（以前、「BigQueryで150万円溶かした人の顔」というQiita記事を見てビビってる。"
   ]
  },
  {
   "cell_type": "markdown",
   "metadata": {
    "slideshow": {
     "slide_type": "slide"
    }
   },
   "source": [
    "<div align='center'>\n",
    "<h2>使いどころがよくわからないが。。。。</h2>\n",
    "</div>\n",
    "\n",
    "<h3>pd.read_hdf</h3>\n",
    " Retrieve pandas object stored in file, optionally based on where criteria \n",
    " ファイルに格納されているpandasオブジェクトを取得します。\n",
    "<h3>pd.read_feather</h3>\n",
    "Load a feather-format object from the file path\n",
    "ファイルパスからフェザーフォーマットオブジェクトをロードする\n",
    "<h3>pd.read_fwf</h3>\n",
    "Read a table of fixed-width formatted lines into DataFrame Also supports optionally iterating or breaking of the file into chunks.\n",
    "固定幅のフォーマットされた行のテーブルをDataFrameに読み込むオプションで、ファイルの繰り返しまたは分割をチャンクにサポートします\n",
    "<h3>pd.read_msgpack</h3>\n",
    "Load msgpack pandas object from the specified file path\n",
    "THIS IS AN EXPERIMENTAL LIBRARY and the storage format may not be stable until a future release.\n",
    "msgpack pandasオブジェクトを指定された場所からファイルパスでロードする\n",
    "これは実験的なライブラリであり、保存フォーマット将来のリリースまで安定していない可能性があります。\n",
    "<h3>pd.read_sas</h3>\n",
    "Read SAS files stored as either XPORT or SAS7BDAT format files.\n",
    "XPORTまたはSAS7BDAT形式のファイルとして保存されたSASファイルを読み込みます。\n",
    "<h3>pd.read_stata</h3>\n",
    "StataファイルをDataFrameに読み込む\n",
    "<h3>pd.read_table</h3>\n",
    "一般的な区切りファイルをDataFrameに読み込む\n",
    "オプションで、ファイルの反復処理または中断をサポートしますチャンクに。\n",
    "<h3>pd.read_sql_query</h3>\n",
    "SQLクエリをDataFrameに読み込みます。クエリの結果セットに対応するDataFrameを返します。\n",
    "文字列。オプションで、 `index_col`パラメータを指定して、 列をインデックスとして使用します。それ以外の場合は、デフォルトの整数インデックスが使用されます。\n",
    "\n",
    "<h3>pd.read_sql_table</h3>\n",
    "Read SQL database table into a DataFrame.\n",
    "同上\n"
   ]
  }
 ],
 "metadata": {
  "celltoolbar": "Slideshow",
  "kernelspec": {
   "display_name": "Python 3",
   "language": "python",
   "name": "python3"
  },
  "language_info": {
   "codemirror_mode": {
    "name": "ipython",
    "version": 3
   },
   "file_extension": ".py",
   "mimetype": "text/x-python",
   "name": "python",
   "nbconvert_exporter": "python",
   "pygments_lexer": "ipython3",
   "version": "3.6.2"
  }
 },
 "nbformat": 4,
 "nbformat_minor": 2
}
