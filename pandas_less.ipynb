{
 "cells": [
  {
   "cell_type": "code",
   "execution_count": 8,
   "metadata": {
    "collapsed": true
   },
   "outputs": [],
   "source": [
    "import pandas as pd\n",
    "from sqlalchemy import create_engine\n",
    "\n",
    "e = create_engine('sqlite:///sakila.db')\n",
    "#すら３つで相対パス４つ絶対パス\n",
    "q = 'select * from film'"
   ]
  },
  {
   "cell_type": "code",
   "execution_count": 9,
   "metadata": {},
   "outputs": [
    {
     "data": {
      "text/html": [
       "<div>\n",
       "<style>\n",
       "    .dataframe thead tr:only-child th {\n",
       "        text-align: right;\n",
       "    }\n",
       "\n",
       "    .dataframe thead th {\n",
       "        text-align: left;\n",
       "    }\n",
       "\n",
       "    .dataframe tbody tr th {\n",
       "        vertical-align: top;\n",
       "    }\n",
       "</style>\n",
       "<table border=\"1\" class=\"dataframe\">\n",
       "  <thead>\n",
       "    <tr style=\"text-align: right;\">\n",
       "      <th></th>\n",
       "      <th>film_id</th>\n",
       "      <th>title</th>\n",
       "      <th>description</th>\n",
       "      <th>release_year</th>\n",
       "      <th>language_id</th>\n",
       "      <th>original_language_id</th>\n",
       "      <th>rental_duration</th>\n",
       "      <th>rental_rate</th>\n",
       "      <th>length</th>\n",
       "      <th>replacement_cost</th>\n",
       "      <th>rating</th>\n",
       "      <th>special_features</th>\n",
       "      <th>last_update</th>\n",
       "    </tr>\n",
       "  </thead>\n",
       "  <tbody>\n",
       "    <tr>\n",
       "      <th>0</th>\n",
       "      <td>1</td>\n",
       "      <td>ACADEMY DINOSAUR</td>\n",
       "      <td>A Epic Drama of a Feminist And a Mad Scientist...</td>\n",
       "      <td>2006</td>\n",
       "      <td>1</td>\n",
       "      <td>None</td>\n",
       "      <td>6</td>\n",
       "      <td>0.99</td>\n",
       "      <td>86</td>\n",
       "      <td>20.99</td>\n",
       "      <td>PG</td>\n",
       "      <td>Deleted Scenes,Behind the Scenes</td>\n",
       "      <td>2011-09-14 18:05:32</td>\n",
       "    </tr>\n",
       "    <tr>\n",
       "      <th>1</th>\n",
       "      <td>2</td>\n",
       "      <td>ACE GOLDFINGER</td>\n",
       "      <td>A Astounding Epistle of a Database Administrat...</td>\n",
       "      <td>2006</td>\n",
       "      <td>1</td>\n",
       "      <td>None</td>\n",
       "      <td>3</td>\n",
       "      <td>4.99</td>\n",
       "      <td>48</td>\n",
       "      <td>12.99</td>\n",
       "      <td>G</td>\n",
       "      <td>Trailers,Deleted Scenes</td>\n",
       "      <td>2011-09-14 18:05:32</td>\n",
       "    </tr>\n",
       "    <tr>\n",
       "      <th>2</th>\n",
       "      <td>3</td>\n",
       "      <td>ADAPTATION HOLES</td>\n",
       "      <td>A Astounding Reflection of a Lumberjack And a ...</td>\n",
       "      <td>2006</td>\n",
       "      <td>1</td>\n",
       "      <td>None</td>\n",
       "      <td>7</td>\n",
       "      <td>2.99</td>\n",
       "      <td>50</td>\n",
       "      <td>18.99</td>\n",
       "      <td>NC-17</td>\n",
       "      <td>Trailers,Deleted Scenes</td>\n",
       "      <td>2011-09-14 18:05:32</td>\n",
       "    </tr>\n",
       "    <tr>\n",
       "      <th>3</th>\n",
       "      <td>4</td>\n",
       "      <td>AFFAIR PREJUDICE</td>\n",
       "      <td>A Fanciful Documentary of a Frisbee And a Lumb...</td>\n",
       "      <td>2006</td>\n",
       "      <td>1</td>\n",
       "      <td>None</td>\n",
       "      <td>5</td>\n",
       "      <td>2.99</td>\n",
       "      <td>117</td>\n",
       "      <td>26.99</td>\n",
       "      <td>G</td>\n",
       "      <td>Commentaries,Behind the Scenes</td>\n",
       "      <td>2011-09-14 18:05:33</td>\n",
       "    </tr>\n",
       "    <tr>\n",
       "      <th>4</th>\n",
       "      <td>5</td>\n",
       "      <td>AFRICAN EGG</td>\n",
       "      <td>A Fast-Paced Documentary of a Pastry Chef And ...</td>\n",
       "      <td>2006</td>\n",
       "      <td>1</td>\n",
       "      <td>None</td>\n",
       "      <td>6</td>\n",
       "      <td>2.99</td>\n",
       "      <td>130</td>\n",
       "      <td>22.99</td>\n",
       "      <td>G</td>\n",
       "      <td>Deleted Scenes</td>\n",
       "      <td>2011-09-14 18:05:33</td>\n",
       "    </tr>\n",
       "  </tbody>\n",
       "</table>\n",
       "</div>"
      ],
      "text/plain": [
       "   film_id             title  \\\n",
       "0        1  ACADEMY DINOSAUR   \n",
       "1        2    ACE GOLDFINGER   \n",
       "2        3  ADAPTATION HOLES   \n",
       "3        4  AFFAIR PREJUDICE   \n",
       "4        5       AFRICAN EGG   \n",
       "\n",
       "                                         description release_year  \\\n",
       "0  A Epic Drama of a Feminist And a Mad Scientist...         2006   \n",
       "1  A Astounding Epistle of a Database Administrat...         2006   \n",
       "2  A Astounding Reflection of a Lumberjack And a ...         2006   \n",
       "3  A Fanciful Documentary of a Frisbee And a Lumb...         2006   \n",
       "4  A Fast-Paced Documentary of a Pastry Chef And ...         2006   \n",
       "\n",
       "   language_id original_language_id  rental_duration  rental_rate  length  \\\n",
       "0            1                 None                6         0.99      86   \n",
       "1            1                 None                3         4.99      48   \n",
       "2            1                 None                7         2.99      50   \n",
       "3            1                 None                5         2.99     117   \n",
       "4            1                 None                6         2.99     130   \n",
       "\n",
       "   replacement_cost rating                  special_features  \\\n",
       "0             20.99     PG  Deleted Scenes,Behind the Scenes   \n",
       "1             12.99      G           Trailers,Deleted Scenes   \n",
       "2             18.99  NC-17           Trailers,Deleted Scenes   \n",
       "3             26.99      G    Commentaries,Behind the Scenes   \n",
       "4             22.99      G                    Deleted Scenes   \n",
       "\n",
       "           last_update  \n",
       "0  2011-09-14 18:05:32  \n",
       "1  2011-09-14 18:05:32  \n",
       "2  2011-09-14 18:05:32  \n",
       "3  2011-09-14 18:05:33  \n",
       "4  2011-09-14 18:05:33  "
      ]
     },
     "execution_count": 9,
     "metadata": {},
     "output_type": "execute_result"
    }
   ],
   "source": [
    "df =  pd.read_sql(q,e)\n",
    "df.head()"
   ]
  },
  {
   "cell_type": "code",
   "execution_count": 3,
   "metadata": {},
   "outputs": [
    {
     "data": {
      "text/plain": [
       "[    0   1   2          3   4   5     6       7      8      9    ...       11  \\\n",
       " 0   着順  枠番  馬番         馬名  性齢  斤量    騎手     タイム     着差  ﾀｲﾑ指数   ...       上り   \n",
       " 1    1   2   3  サトノダイヤモンド  牡3  57  ルメール  3:03.3    NaN     **   ...     34.1   \n",
       " 2    2   6  11   レインボーライン  牡3  57  福永祐一  3:03.7  2.1/2     **   ...     34.2   \n",
       " 3    3   7  13     エアスピネル  牡3  57    武豊  3:03.7     ハナ     **   ...     34.6   \n",
       " 4    4   3   6  ディーマジェスティ  牡3  57  蛯名正義  3:03.8     クビ     **   ...     34.5   \n",
       " 5    5   4   8   ミッキーロケット  牡3  57  和田竜二  3:04.0  1.1/2     **   ...     34.6   \n",
       " 6    6   2   4   シュペルミエール  牡3  57  北村宏司  3:04.0     ハナ     **   ...     34.7   \n",
       " 7    7   8  18   マウントロブソン  牡3  57  川田将雅  3:04.2  1.1/4     **   ...     35.0   \n",
       " 8    8   1   1    カフジプリンス  牡3  57  岩田康誠  3:04.2     ハナ     **   ...     34.8   \n",
       " 9    9   4   7  レッドエルディスト  牡3  57  四位洋文  3:04.3     クビ     **   ...     34.8   \n",
       " 10  10   8  17   ジュンヴァルカン  牡3  57  Ｍ．デム  3:04.6  1.3/4     **   ...     34.8   \n",
       " 11  11   8  16   プロディガルサン  牡3  57  田辺裕信  3:04.6     クビ     **   ...     35.0   \n",
       " 12  12   5  10      ウムブルフ  牡3  57   浜中俊  3:04.9      2     **   ...     35.9   \n",
       " 13  13   3   5   ミライヘノツバサ  牡3  57  藤岡康太  3:05.0    1/2     **   ...     36.4   \n",
       " 14  14   7  14   アグネスフォルテ  牡3  57  松山弘平  3:05.3      2     **   ...     36.4   \n",
       " 15  15   1   2   ジョルジュサンク  牡3  57   幸英明  3:05.7  2.1/2     **   ...     36.6   \n",
       " 16  16   6  12    コスモジャーベ  牡3  57  丹内祐次  3:06.0  1.3/4     **   ...     36.4   \n",
       " 17  17   5   9      イモータル  牡3  57  ヴェロン  3:07.4      8     **   ...     37.7   \n",
       " 18  18   7  15   サトノエトワール  牡3  57  池添謙一  3:08.1      4     **   ...     39.0   \n",
       " \n",
       "        12  13        14     15      16   17        18             19       20  \n",
       " 0      単勝  人気       馬体重  調教ﾀｲﾑ  厩舎ｺﾒﾝﾄ   備考       調教師             馬主   賞金(万円)  \n",
       " 1     2.3   1   498(-2)    NaN     NaN  NaN  [西] 池江泰寿            里見治  14596.1  \n",
       " 2    24.9   9   444(+2)    NaN     NaN  NaN  [西] 浅見秀一           三田昌宏   5484.6  \n",
       " 3    20.5   6   478(+2)    NaN     NaN  NaN  [西] 笹田和秀      ラッキーフィールド   3342.3  \n",
       " 4     3.2   2   482(+6)    NaN     NaN  NaN  [東] 二ノ宮敬            嶋田賢   1700.0  \n",
       " 5    12.2   4   472(+4)    NaN     NaN  NaN  [西] 音無秀孝          野田みづき   1150.0  \n",
       " 6    21.2   7   488(+2)    NaN     NaN  NaN  [東] 木村哲也      キャロットファーム      NaN  \n",
       " 7    90.9  12   478(-8)    NaN     NaN  NaN   [東] 堀宣行   金子真人ホールディングス      NaN  \n",
       " 8    11.7   3   522(+6)    NaN     NaN  NaN  [西] 矢作芳人            加藤守      NaN  \n",
       " 9    16.3   5    506(0)    NaN     NaN  NaN  [西] 笹田和秀     東京ホースレーシング      NaN  \n",
       " 10   23.5   8  518(+10)    NaN     NaN  NaN  [西] 友道康夫           河合純二      NaN  \n",
       " 11   60.8  11   490(-6)    NaN     NaN  NaN   [東] 国枝栄   金子真人ホールディングス      NaN  \n",
       " 12   26.1  10   460(+2)    NaN     NaN  NaN   [東] 堀宣行       社台レースホース      NaN  \n",
       " 13  139.8  13   486(-2)    NaN     NaN  NaN  [東] 伊藤大士           三島宣彦      NaN  \n",
       " 14  182.1  18   438(+4)    NaN     NaN  NaN  [西] 長浜博之          渡辺公美子      NaN  \n",
       " 15  144.0  14   510(+4)    NaN     NaN  NaN  [西] 鮫島一歩  ＣＨＥＶＡＬＡＴＴＡＣＨＥ      NaN  \n",
       " 16  157.4  15   466(-4)    NaN     NaN  NaN  [東] 和田雄二     ビッグレッドファーム      NaN  \n",
       " 17  170.8  17   522(+2)    NaN     NaN  NaN  [西] 須貝尚介   金子真人ホールディングス      NaN  \n",
       " 18  164.0  16   504(+2)    NaN     NaN  NaN  [西] 角居勝彦            里見治      NaN  \n",
       " \n",
       " [19 rows x 21 columns],     0       1          2    3\n",
       " 0  単勝       3        230    1\n",
       " 1  複勝   31113  130500430  186\n",
       " 2  枠連   2 - 6       2960   10\n",
       " 3  馬連  3 - 11       3510   13,      0                    1            2      3\n",
       " 0  ワイド  3 - 113 - 1311 - 13  10809505460  10945\n",
       " 1   馬単               3 → 11         4720     17\n",
       " 2  三連複          3 - 11 - 13        17550     51\n",
       " 3  三連単          3 → 11 → 13        69380    199,             0                                           1\n",
       " 0        馬場指数    プレミアサービスにご加入して頂くと馬場指数が確認できます。プレミアサービス案内へ\n",
       " 1  馬場コメント (?)  プレミアサービスにご加入して頂くと馬場コメントが確認できます。プレミアサービス案内へ,        0                                                  1\n",
       " 0  1コーナー   5,15-(13,14)2(10,18)3-(1,8)(4,6,7)11(12,16)-17,9\n",
       " 1  2コーナー   5,15(13,14)(10,2)18(1,3)(8,7)(4,6)11(12,16)-17,9\n",
       " 2  3コーナー  5-14(15,10)(13,2)(4,18)(1,3)(12,16,6)(8,7)11(1...\n",
       " 3  4コーナー  5-(14,10)2(13,18,3,6)15(4,8)(1,7,11)(12,16)(17,9),      0                                                  1\n",
       " 0  ラップ  13.0 - 11.3 - 11.0 - 12.4 - 12.2 - 12.7 - 13.6...\n",
       " 1  ペース  13.0 - 24.3 - 35.3 - 47.7 - 59.9 - 72.6 - 86.2...,             0                                          1\n",
       " 0  分析コメント (?)  プレミアサービスにご加入して頂くとレース分析が確認できます。プレミアサービス案内へ,                                              0\n",
       " 0                                        着順:馬名\n",
       " 1  プレミアサービスにご加入して頂くとレース後の短評が確認できます。プレミアサービス案内へ]"
      ]
     },
     "execution_count": 3,
     "metadata": {},
     "output_type": "execute_result"
    }
   ],
   "source": [
    "race_data = pd.read_html(\"http://db.netkeiba.com/race/201608040711/\")\n",
    "race_data"
   ]
  },
  {
   "cell_type": "code",
   "execution_count": 27,
   "metadata": {},
   "outputs": [
    {
     "data": {
      "text/plain": [
       "8"
      ]
     },
     "execution_count": 27,
     "metadata": {},
     "output_type": "execute_result"
    }
   ],
   "source": [
    "len(race_data)"
   ]
  },
  {
   "cell_type": "code",
   "execution_count": 5,
   "metadata": {},
   "outputs": [
    {
     "data": {
      "text/html": [
       "<div>\n",
       "<style>\n",
       "    .dataframe thead tr:only-child th {\n",
       "        text-align: right;\n",
       "    }\n",
       "\n",
       "    .dataframe thead th {\n",
       "        text-align: left;\n",
       "    }\n",
       "\n",
       "    .dataframe tbody tr th {\n",
       "        vertical-align: top;\n",
       "    }\n",
       "</style>\n",
       "<table border=\"1\" class=\"dataframe\">\n",
       "  <thead>\n",
       "    <tr style=\"text-align: right;\">\n",
       "      <th></th>\n",
       "      <th>0</th>\n",
       "      <th>1</th>\n",
       "    </tr>\n",
       "  </thead>\n",
       "  <tbody>\n",
       "    <tr>\n",
       "      <th>0</th>\n",
       "      <td>1コーナー</td>\n",
       "      <td>5,15-(13,14)2(10,18)3-(1,8)(4,6,7)11(12,16)-17,9</td>\n",
       "    </tr>\n",
       "    <tr>\n",
       "      <th>1</th>\n",
       "      <td>2コーナー</td>\n",
       "      <td>5,15(13,14)(10,2)18(1,3)(8,7)(4,6)11(12,16)-17,9</td>\n",
       "    </tr>\n",
       "    <tr>\n",
       "      <th>2</th>\n",
       "      <td>3コーナー</td>\n",
       "      <td>5-14(15,10)(13,2)(4,18)(1,3)(12,16,6)(8,7)11(1...</td>\n",
       "    </tr>\n",
       "    <tr>\n",
       "      <th>3</th>\n",
       "      <td>4コーナー</td>\n",
       "      <td>5-(14,10)2(13,18,3,6)15(4,8)(1,7,11)(12,16)(17,9)</td>\n",
       "    </tr>\n",
       "  </tbody>\n",
       "</table>\n",
       "</div>"
      ],
      "text/plain": [
       "       0                                                  1\n",
       "0  1コーナー   5,15-(13,14)2(10,18)3-(1,8)(4,6,7)11(12,16)-17,9\n",
       "1  2コーナー   5,15(13,14)(10,2)18(1,3)(8,7)(4,6)11(12,16)-17,9\n",
       "2  3コーナー  5-14(15,10)(13,2)(4,18)(1,3)(12,16,6)(8,7)11(1...\n",
       "3  4コーナー  5-(14,10)2(13,18,3,6)15(4,8)(1,7,11)(12,16)(17,9)"
      ]
     },
     "execution_count": 5,
     "metadata": {},
     "output_type": "execute_result"
    }
   ],
   "source": [
    "race_data[4]"
   ]
  },
  {
   "cell_type": "code",
   "execution_count": 29,
   "metadata": {},
   "outputs": [
    {
     "data": {
      "text/html": [
       "<div>\n",
       "<style>\n",
       "    .dataframe thead tr:only-child th {\n",
       "        text-align: right;\n",
       "    }\n",
       "\n",
       "    .dataframe thead th {\n",
       "        text-align: left;\n",
       "    }\n",
       "\n",
       "    .dataframe tbody tr th {\n",
       "        vertical-align: top;\n",
       "    }\n",
       "</style>\n",
       "<table border=\"1\" class=\"dataframe\">\n",
       "  <thead>\n",
       "    <tr style=\"text-align: right;\">\n",
       "      <th></th>\n",
       "      <th>0</th>\n",
       "      <th>1</th>\n",
       "    </tr>\n",
       "  </thead>\n",
       "  <tbody>\n",
       "    <tr>\n",
       "      <th>0</th>\n",
       "      <td>馬場指数</td>\n",
       "      <td>プレミアサービスにご加入して頂くと馬場指数が確認できます。プレミアサービス案内へ</td>\n",
       "    </tr>\n",
       "    <tr>\n",
       "      <th>1</th>\n",
       "      <td>馬場コメント (?)</td>\n",
       "      <td>プレミアサービスにご加入して頂くと馬場コメントが確認できます。プレミアサービス案内へ</td>\n",
       "    </tr>\n",
       "  </tbody>\n",
       "</table>\n",
       "</div>"
      ],
      "text/plain": [
       "            0                                           1\n",
       "0        馬場指数    プレミアサービスにご加入して頂くと馬場指数が確認できます。プレミアサービス案内へ\n",
       "1  馬場コメント (?)  プレミアサービスにご加入して頂くと馬場コメントが確認できます。プレミアサービス案内へ"
      ]
     },
     "execution_count": 29,
     "metadata": {},
     "output_type": "execute_result"
    }
   ],
   "source": [
    "race_data[3]"
   ]
  },
  {
   "cell_type": "markdown",
   "metadata": {},
   "source": [
    "#サーバサイドカーソル\n",
    "サーバーサイドで\n",
    "接続を\n",
    "#クライアントサイドカーソル\n",
    "クライアント側にいっきに落ちる\n",
    "イレータ一回取り出すとなくなる"
   ]
  },
  {
   "cell_type": "code",
   "execution_count": null,
   "metadata": {
    "collapsed": true
   },
   "outputs": [],
   "source": []
  },
  {
   "cell_type": "code",
   "execution_count": null,
   "metadata": {
    "collapsed": true
   },
   "outputs": [],
   "source": []
  },
  {
   "cell_type": "code",
   "execution_count": null,
   "metadata": {
    "collapsed": true
   },
   "outputs": [],
   "source": []
  },
  {
   "cell_type": "code",
   "execution_count": null,
   "metadata": {
    "collapsed": true
   },
   "outputs": [],
   "source": []
  },
  {
   "cell_type": "code",
   "execution_count": null,
   "metadata": {
    "collapsed": true
   },
   "outputs": [],
   "source": []
  },
  {
   "cell_type": "code",
   "execution_count": null,
   "metadata": {
    "collapsed": true
   },
   "outputs": [],
   "source": []
  },
  {
   "cell_type": "code",
   "execution_count": null,
   "metadata": {
    "collapsed": true
   },
   "outputs": [],
   "source": []
  },
  {
   "cell_type": "code",
   "execution_count": null,
   "metadata": {
    "collapsed": true
   },
   "outputs": [],
   "source": []
  },
  {
   "cell_type": "code",
   "execution_count": null,
   "metadata": {
    "collapsed": true
   },
   "outputs": [],
   "source": []
  },
  {
   "cell_type": "code",
   "execution_count": null,
   "metadata": {
    "collapsed": true
   },
   "outputs": [],
   "source": []
  },
  {
   "cell_type": "code",
   "execution_count": null,
   "metadata": {
    "collapsed": true
   },
   "outputs": [],
   "source": []
  },
  {
   "cell_type": "code",
   "execution_count": null,
   "metadata": {
    "collapsed": true
   },
   "outputs": [],
   "source": []
  },
  {
   "cell_type": "code",
   "execution_count": null,
   "metadata": {
    "collapsed": true
   },
   "outputs": [],
   "source": []
  },
  {
   "cell_type": "code",
   "execution_count": null,
   "metadata": {
    "collapsed": true
   },
   "outputs": [],
   "source": []
  },
  {
   "cell_type": "code",
   "execution_count": null,
   "metadata": {
    "collapsed": true
   },
   "outputs": [],
   "source": []
  },
  {
   "cell_type": "code",
   "execution_count": null,
   "metadata": {
    "collapsed": true
   },
   "outputs": [],
   "source": []
  },
  {
   "cell_type": "code",
   "execution_count": null,
   "metadata": {
    "collapsed": true
   },
   "outputs": [],
   "source": []
  },
  {
   "cell_type": "code",
   "execution_count": null,
   "metadata": {
    "collapsed": true
   },
   "outputs": [],
   "source": []
  },
  {
   "cell_type": "code",
   "execution_count": null,
   "metadata": {
    "collapsed": true
   },
   "outputs": [],
   "source": []
  },
  {
   "cell_type": "code",
   "execution_count": null,
   "metadata": {
    "collapsed": true
   },
   "outputs": [],
   "source": []
  },
  {
   "cell_type": "code",
   "execution_count": null,
   "metadata": {
    "collapsed": true
   },
   "outputs": [],
   "source": []
  },
  {
   "cell_type": "code",
   "execution_count": null,
   "metadata": {
    "collapsed": true
   },
   "outputs": [],
   "source": []
  },
  {
   "cell_type": "code",
   "execution_count": null,
   "metadata": {
    "collapsed": true
   },
   "outputs": [],
   "source": [
    "    "
   ]
  },
  {
   "cell_type": "code",
   "execution_count": null,
   "metadata": {
    "collapsed": true
   },
   "outputs": [],
   "source": []
  },
  {
   "cell_type": "code",
   "execution_count": null,
   "metadata": {
    "collapsed": true
   },
   "outputs": [],
   "source": []
  },
  {
   "cell_type": "code",
   "execution_count": null,
   "metadata": {
    "collapsed": true
   },
   "outputs": [],
   "source": []
  },
  {
   "cell_type": "code",
   "execution_count": null,
   "metadata": {
    "collapsed": true
   },
   "outputs": [],
   "source": []
  },
  {
   "cell_type": "code",
   "execution_count": null,
   "metadata": {
    "collapsed": true
   },
   "outputs": [],
   "source": []
  },
  {
   "cell_type": "code",
   "execution_count": null,
   "metadata": {
    "collapsed": true
   },
   "outputs": [],
   "source": []
  },
  {
   "cell_type": "code",
   "execution_count": null,
   "metadata": {
    "collapsed": true
   },
   "outputs": [],
   "source": []
  },
  {
   "cell_type": "code",
   "execution_count": null,
   "metadata": {
    "collapsed": true
   },
   "outputs": [],
   "source": []
  },
  {
   "cell_type": "code",
   "execution_count": null,
   "metadata": {
    "collapsed": true
   },
   "outputs": [],
   "source": []
  },
  {
   "cell_type": "code",
   "execution_count": null,
   "metadata": {
    "collapsed": true
   },
   "outputs": [],
   "source": []
  },
  {
   "cell_type": "code",
   "execution_count": null,
   "metadata": {
    "collapsed": true
   },
   "outputs": [],
   "source": []
  },
  {
   "cell_type": "code",
   "execution_count": null,
   "metadata": {
    "collapsed": true
   },
   "outputs": [],
   "source": []
  },
  {
   "cell_type": "code",
   "execution_count": null,
   "metadata": {
    "collapsed": true
   },
   "outputs": [],
   "source": []
  },
  {
   "cell_type": "code",
   "execution_count": null,
   "metadata": {
    "collapsed": true
   },
   "outputs": [],
   "source": []
  },
  {
   "cell_type": "code",
   "execution_count": null,
   "metadata": {
    "collapsed": true
   },
   "outputs": [],
   "source": []
  }
 ],
 "metadata": {
  "kernelspec": {
   "display_name": "Python 3",
   "language": "python",
   "name": "python3"
  },
  "language_info": {
   "codemirror_mode": {
    "name": "ipython",
    "version": 3
   },
   "file_extension": ".py",
   "mimetype": "text/x-python",
   "name": "python",
   "nbconvert_exporter": "python",
   "pygments_lexer": "ipython3",
   "version": "3.6.2"
  }
 },
 "nbformat": 4,
 "nbformat_minor": 2
}
